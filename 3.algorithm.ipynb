{
 "cells": [
  {
   "cell_type": "markdown",
   "metadata": {},
   "source": [
    "## 동적 프로그래밍 (dynamic programming)"
   ]
  },
  {
   "cell_type": "markdown",
   "metadata": {},
   "source": [
    "### 최장 공통 부분 문자열 (LCS, Longest common substring)\n",
    "\n",
    "![Longest Common Substring](lcs1.jpg)\n",
    "\n",
    "문자열간의 가장 긴 공통 영역을 찾는다. \n",
    "HISH 와 FISH 공통 부분은 `ISH` 다.\n",
    "결과는 3이다.\n",
    "\n",
    "\n",
    "- 코드\n",
    "```python\n",
    "if word_a[i] == word_b[j]:\n",
    "    cell[i][j] = cell[i-1][j-1] + 1\n",
    "else:\n",
    "    cell[i][j] = 0\n",
    "```"
   ]
  },
  {
   "cell_type": "markdown",
   "metadata": {},
   "source": [
    "### 최장 공통 부분열 (Longest common subsequence)\n",
    "\n",
    "![longest common subsequence](lcs2.jpg)\n",
    "\n",
    "![longest common subsequence](lcs3.jpg)\n",
    "\n",
    "문자열간의 공통된 모든 영역을 찾아 계산한다. \n",
    "`F` 와 `SH`를 찾아 결과를 증가시킨다.\n",
    "\n",
    "- 코드\n",
    "\n",
    "```python\n",
    "if word_a[i] == word_b[j]:\n",
    "    cell[i][j] = cell[i-1][j-1] + 1\n",
    "else:\n",
    "    cell[i][j] = max(cell[i-1][j], cell[i][j-1])\n",
    "```"
   ]
  },
  {
   "cell_type": "markdown",
   "metadata": {},
   "source": [
    "## KNN 알고리즘 (k-nearest neighbors algorithm)"
   ]
  },
  {
   "cell_type": "markdown",
   "metadata": {},
   "source": [
    "###### 피타고라스 정리 거리구하기 공식\n",
    "\n",
    "![거리구하기](knn1.jpg)\n",
    "\n",
    "$\\sqrt{(X_{1}-X_{2})^2+(Y_{1}-Y_{2})^2}$"
   ]
  },
  {
   "cell_type": "markdown",
   "metadata": {},
   "source": [
    "##### 2차원 거리 구하기"
   ]
  },
  {
   "cell_type": "markdown",
   "metadata": {},
   "source": [
    "$\\sqrt{(2-2)^2+(2-1)^2}$\n",
    "\n",
    "= $\\sqrt{0+1}$\n",
    "\n",
    "= $\\sqrt{1}$\n",
    "\n",
    "= $1$"
   ]
  },
  {
   "cell_type": "markdown",
   "metadata": {},
   "source": [
    "##### 다차원 거리 구하기"
   ]
  },
  {
   "cell_type": "markdown",
   "metadata": {},
   "source": [
    "다차원의 경우에도 거리를 구하는 것이 가능하다."
   ]
  },
  {
   "cell_type": "markdown",
   "metadata": {},
   "source": [
    "$\\sqrt{(a_{1}-a_{2})^2+(b_{1}-b_{2})^2+(c_{1}-c_{2})^2+(d_{1}-d_{2})^2+(e_{1}-e_{2})^2}$\n",
    "\n",
    "$\\sqrt{(3-4)^2+(4-3)^2+(4-5)^2+(1-1)^2+(4-5)^2}$\n",
    "\n",
    "= $\\sqrt{1+1+1+0+1}$\n",
    "\n",
    "= $\\sqrt{4}$\n",
    "\n",
    "= 2"
   ]
  },
  {
   "cell_type": "markdown",
   "metadata": {},
   "source": [
    "##### KNN 구현\n",
    "\n",
    "심플하게 구현한 [div3125/k-nearest-neighbors](https://github.com/div3125/k-nearest-neighbors) 코드입니다.\n",
    "\n",
    "\n"
   ]
  },
  {
   "cell_type": "markdown",
   "metadata": {},
   "source": [
    "## Where to go next"
   ]
  },
  {
   "cell_type": "markdown",
   "metadata": {},
   "source": [
    "### 이진트리\n",
    "\n",
    "https://gist.github.com/samidhtalsania/6659380"
   ]
  },
  {
   "cell_type": "code",
   "execution_count": 1,
   "metadata": {},
   "outputs": [
    {
     "name": "stdout",
     "output_type": "stream",
     "text": [
      "right\n",
      "right\n",
      "left\n",
      "right\n",
      "left\n",
      "left\n"
     ]
    }
   ],
   "source": [
    "class Node():\n",
    "\n",
    "    def __init__(self,key):\n",
    "        self.key = key\n",
    "        self.left = None\n",
    "        self.right = None\n",
    "        self.parent = None\n",
    "\n",
    "\n",
    "class Tree():\n",
    "\n",
    "    def __init__(self):\n",
    "        self.root = None\n",
    "\n",
    "    def add_node(self, key, node=None):\n",
    "\n",
    "        if node is None:\n",
    "            node = self.root\n",
    "\n",
    "        if self.root is None:\n",
    "            self.root = Node(key)\n",
    "\n",
    "        else:\n",
    "            if key <= node.key :\n",
    "                if node.left is None:\n",
    "                    node.left = Node(key)\n",
    "                    node.left.parent = node\n",
    "                    print(\"left\")\n",
    "                    return \n",
    "                else:\n",
    "                    # return self.add_node(key,node = self.root.left)\n",
    "                    return self.add_node(key, node = node.left)\n",
    "            else:\n",
    "                if node.right is None:\n",
    "                    node.right = Node(key)\n",
    "                    node.right.parent = node\n",
    "                    print(\"right\")\n",
    "                    return \n",
    "                else:\n",
    "                    # return self.add_node(key,node = self.root.right)\n",
    "                    return self.add_node(key, node = node.right)\n",
    "\n",
    "\n",
    "    def search(self,key,node = None):\n",
    "\n",
    "        if node is None:\n",
    "            node = self.root\n",
    "\n",
    "        if self.root.key == key:\n",
    "            print (\"key is at the root\")\n",
    "            return self.root\n",
    "\n",
    "        else:\n",
    "            if node.key == key :\n",
    "                print (\"key exists\")\n",
    "                return node\n",
    "\n",
    "            elif key < node.key and node.left is not None:\n",
    "                print (\"left\")\n",
    "                return self.search(key, node = node.left)\n",
    "\n",
    "            elif key > node.key and node.right is not None:\n",
    "                print (\"right\")\n",
    "                return self.search(key, node = node.right)\n",
    "\n",
    "            else:\n",
    "                print (\"key does not exist\")\n",
    "                return None\n",
    "\n",
    "    def delete_node(self,key,node=None):\n",
    "        #search for the node to be deleted in tree\n",
    "        if node is None:\n",
    "            node = self.search(key)#return the node to be deleted\n",
    "\n",
    "        #root has no parent node\n",
    "        if self.root.key == node.key: #if it is root\n",
    "            parent_node = self.root\n",
    "        else:\n",
    "            parent_node = node.parent\n",
    "\n",
    "\n",
    "        '''case 1: The node has no chidren'''\n",
    "        if node.left is None and node.right is None:\n",
    "            if key <= parent_node.key:\n",
    "                parent_node.left = None\n",
    "            else:\n",
    "                parent_node.right = None\n",
    "            return\n",
    "\n",
    "        '''case 2: The node has children'''\n",
    "        ''' if it has a single left node'''\n",
    "        if node.left is not None and node.right is None :\n",
    "            if node.left.key < parent_node.key : \n",
    "                parent_node.left = node.left\n",
    "            else:\n",
    "                parent_node.right = node.left\n",
    "\n",
    "            return\n",
    "\n",
    "        '''if it has a single right node'''\n",
    "        if node.right is not None and node.left is None:\n",
    "            if node.key <= parent_node.key:\n",
    "                parent_node.left = node.right\n",
    "            else:\n",
    "                parent_node.right = node.right\n",
    "            return\n",
    "\n",
    "        '''if it has two children'''\n",
    "        '''find the node with the minimum value from the right subtree.\n",
    "           copy its value to thhe node which needs to be removed.\n",
    "           right subtree now has a duplicate and so remove it.'''\n",
    "        if node.left is not None and node.right is not None:\n",
    "            min_value = self.find_minimum(node)\n",
    "            node.key = min_value.key\n",
    "            min_value.parent.left = None\n",
    "            return\n",
    "\n",
    "\n",
    "    def find_minimum(self, node = None):\n",
    "\n",
    "        if node is None:\n",
    "            node = self.root\n",
    "\n",
    "        '''find mimimum value from the right subtree'''\n",
    "\n",
    "        '''case when there is only a root node'''\n",
    "        if node.right is not None:\n",
    "            node = node.right\n",
    "        else:\n",
    "            return node\n",
    "\n",
    "        if node.left is not None:\n",
    "            return self.find_minimum(node = node.left)\n",
    "        else:\n",
    "            return node\n",
    "\n",
    "    def tree_data(self,node=None):\n",
    "        if node is None:\n",
    "            node = self.root\n",
    "\n",
    "        stack = []\n",
    "        while stack or node:\n",
    "            if node is not None:\n",
    "                stack.append(node)\n",
    "                node = node.left\n",
    "            else:\n",
    "                node = stack.pop()\n",
    "                yield node.key\n",
    "                node = node.right\n",
    "\n",
    "\n",
    "\n",
    "\n",
    "\n",
    "t=Tree()\n",
    "t.add_node(10)\n",
    "t.add_node(13)\n",
    "t.add_node(14)\n",
    "t.add_node(8)\n",
    "t.add_node(9)\n",
    "t.add_node(7)\n",
    "t.add_node(11)"
   ]
  },
  {
   "cell_type": "markdown",
   "metadata": {},
   "source": [
    "### 퓨리에 변환 (fourier transform)\n",
    "\n",
    "numpy를 사용한 변환\n",
    "\n",
    "https://techreviewtips.blogspot.com/2017/11/05-02-fft.html"
   ]
  },
  {
   "cell_type": "markdown",
   "metadata": {},
   "source": [
    "- matplotlib 설치\n",
    "```\n",
    "$ pip3 install matplotlib\n",
    "```\n",
    "\n",
    "- numpy 설치\n",
    "```\n",
    "pip3 install install numpy\n",
    "```"
   ]
  },
  {
   "cell_type": "code",
   "execution_count": 14,
   "metadata": {
    "scrolled": false
   },
   "outputs": [
    {
     "data": {
      "image/png": "[encoded data removed]",
      "text/plain": [
       "<Figure size 600x400 with 1 Axes>"
      ]
     },
     "metadata": {},
     "output_type": "display_data"
    },
    {
     "data": {
      "image/png": "[encoded data removed]",
      "text/plain": [
       "<Figure size 600x400 with 3 Axes>"
      ]
     },
     "metadata": {},
     "output_type": "display_data"
    }
   ],
   "source": [
    "# FFT  그래프 그리기 1\n",
    "\n",
    "import matplotlib.pyplot as plt\n",
    "import numpy as np\n",
    "import math\n",
    "\n",
    "#St=0.0005\n",
    "\n",
    "#Fs = 1/St                    # Sampling frequency\n",
    "Fs = 2000                    # Sampling frequency\n",
    "T = 1/Fs                     # Sample interval time\n",
    "te= 0.5                     # End of time\n",
    "t = np.arange(0, te, T)   # Time vector\n",
    "\n",
    "# Sum of a 50 Hz sinusoid and a 120 Hz sinusoid\n",
    "noise = np.random.normal(0,0.05,len(t))\n",
    "x = 0.6*np.cos(2*np.pi*60*t+np.pi/2) + np.cos(2*np.pi*120*t)\n",
    "y = x # + noise     # Sinusoids plus noise\n",
    "\n",
    "# if energy was collapsed by forced code like belows...\n",
    "#BB=range(math.trunc(len(t)/2), len(t))\n",
    "#y[BB]=0\n",
    "\n",
    "plt.figure(num=1,dpi=100,facecolor='white')\n",
    "plt.plot(t,y,'r')\n",
    "plt.xlim( 0, 0.05)\n",
    "plt.xlabel('time($sec$)')\n",
    "plt.ylabel('y')\n",
    "\n",
    "plt.savefig(\"./test_figure1.png\",dpi=300)\n",
    "\n",
    "\n",
    "# Calculate FFT ....................\n",
    "n=len(y)        # Length of signal\n",
    "NFFT=n      # ?? NFFT=2^nextpow2(length(y))  ??\n",
    "k=np.arange(NFFT)\n",
    "f0=k*Fs/NFFT    # double sides frequency range\n",
    "f0=f0[range(math.trunc(NFFT/2))]        # single sied frequency range\n",
    "\n",
    "Y=np.fft.fft(y)/NFFT        # fft computing and normaliation\n",
    "Y=Y[range(math.trunc(NFFT/2))]          # single sied frequency range\n",
    "amplitude_Hz = 2*abs(Y)\n",
    "phase_ang = np.angle(Y)*180/np.pi\n",
    "\n",
    "# figure 1 ..................................\n",
    "plt.figure(num=2,dpi=100,facecolor='white')\n",
    "plt.subplots_adjust(hspace = 0.6, wspace = 0.3)\n",
    "plt.subplot(3,1,1)\n",
    "\n",
    "plt.plot(t,y,'r')\n",
    "plt.title('Signal FFT analysis')\n",
    "plt.xlabel('time($sec$)')\n",
    "plt.ylabel('y')\n",
    "#plt.xlim( 0, 0.1)\n",
    "\n",
    "# Amplitude ....\n",
    "#plt.figure(num=2,dpi=100,facecolor='white')\n",
    "plt.subplot(3,1,2)\n",
    "\n",
    "# Plot single-sided amplitude spectrum.\n",
    "\n",
    "plt.plot(f0,amplitude_Hz,'r')   #  2* ???\n",
    "plt.xticks(np.arange(0,500,20))\n",
    "plt.xlim( 0, 200)\n",
    "plt.ylim( 0, 1.2)\n",
    "#plt.title('Single-Sided Amplitude Spectrum of y(t)')\n",
    "plt.xlabel('frequency($Hz$)')\n",
    "plt.ylabel('amplitude')\n",
    "plt.grid()\n",
    "\n",
    "# Phase ....\n",
    "#plt.figure(num=2,dpi=100,facecolor='white')\n",
    "plt.subplot(3,1,3)\n",
    "plt.plot(f0,phase_ang,'r')   #  2* ???\n",
    "plt.xlim( 0, 200)\n",
    "plt.ylim( -180, 180)\n",
    "#plt.title('Single-Sided Phase Spectrum of y(t)')\n",
    "plt.xlabel('frequency($Hz$)')\n",
    "plt.ylabel('phase($deg.$)')\n",
    "plt.xticks([0, 60, 120, 200])\n",
    "plt.yticks([-180, -90, 0, 90, 180])\n",
    "plt.grid()\n",
    "\n",
    "plt.savefig(\"./test_figure2.png\",dpi=300)\n",
    "plt.show()"
   ]
  },
  {
   "cell_type": "markdown",
   "metadata": {},
   "source": [
    "### 맵리듀스(mapreduce)"
   ]
  },
  {
   "cell_type": "markdown",
   "metadata": {},
   "source": [
    "- map "
   ]
  },
  {
   "cell_type": "code",
   "execution_count": 1,
   "metadata": {},
   "outputs": [
    {
     "name": "stdout",
     "output_type": "stream",
     "text": [
      "2\n",
      "4\n",
      "6\n",
      "8\n",
      "10\n"
     ]
    }
   ],
   "source": [
    "arr1 = [1, 2, 3, 4, 5]\n",
    "arr2 = map(lambda x: 2 * x, arr1)\n",
    "for i in arr2:\n",
    "    print(i)\n"
   ]
  },
  {
   "cell_type": "markdown",
   "metadata": {},
   "source": [
    "- reduce"
   ]
  },
  {
   "cell_type": "code",
   "execution_count": 3,
   "metadata": {},
   "outputs": [
    {
     "name": "stdout",
     "output_type": "stream",
     "text": [
      "15\n"
     ]
    }
   ],
   "source": [
    "from functools import reduce\n",
    "arr1 = [1, 2, 3, 4, 5]\n",
    "sum = reduce(lambda x, y: x+y, arr1)\n",
    "print(sum)"
   ]
  },
  {
   "cell_type": "markdown",
   "metadata": {},
   "source": [
    "#### 블룸 필터(bloom filter)와 하이퍼로그로그\n",
    "\n",
    " 블룸필터\n",
    "https://github.com/jaybaird/python-bloomfilter\n",
    "\n",
    " 하이퍼 로그로그\n",
    "https://github.com/svpcom/hyperloglog"
   ]
  },
  {
   "cell_type": "markdown",
   "metadata": {},
   "source": [
    "#### SHA 알고리즘"
   ]
  },
  {
   "cell_type": "markdown",
   "metadata": {},
   "source": [
    "- 문자열 해싱\n",
    "\n",
    "https://docs.python.org/3/library/hashlib.html"
   ]
  },
  {
   "cell_type": "code",
   "execution_count": 2,
   "metadata": {},
   "outputs": [
    {
     "name": "stdout",
     "output_type": "stream",
     "text": [
      "\u0003\u001e",
      "�}Ae\u0015���\\\u0000o�u+7����N�:��\f",
      "�\u000fK�\u0006\n"
     ]
    }
   ],
   "source": [
    "import hashlib\n",
    "m = hashlib.sha256()\n",
    "m.update(b\"Nobody inspects\")\n",
    "m.update(b\" the spammish repetition\")\n",
    "print(m.digest())\n",
    "print(m.digest_size)\n",
    "print(m.block_size)"
   ]
  },
  {
   "cell_type": "markdown",
   "metadata": {},
   "source": [
    "- 파일 해싱\n",
    "\n",
    "https://www.pythoncentral.io/hashing-files-with-python/"
   ]
  },
  {
   "cell_type": "code",
   "execution_count": 6,
   "metadata": {},
   "outputs": [
    {
     "name": "stdout",
     "output_type": "stream",
     "text": [
      "9e602fda6e7192e1c98d6da0e5e788b85f70d927\n"
     ]
    }
   ],
   "source": [
    "import hashlib\n",
    "BLOCKSIZE = 65536\n",
    "hasher = hashlib.sha1()\n",
    "with open('3.algorithm.ipynb', 'rb') as afile:\n",
    "    buf = afile.read(BLOCKSIZE)\n",
    "    while len(buf) > 0:\n",
    "        hasher.update(buf)\n",
    "        buf = afile.read(BLOCKSIZE)\n",
    "print(hasher.hexdigest())"
   ]
  },
  {
   "cell_type": "markdown",
   "metadata": {},
   "source": [
    "- MySQL Password hashing\n",
    "\n",
    "https://dev.mysql.com/doc/refman/5.5/en/password-hashing.html"
   ]
  },
  {
   "cell_type": "markdown",
   "metadata": {},
   "source": [
    "#### 디피-헬만 알고리즘 (Diffie-Hellman algorithm)\n",
    "\n",
    "https://sublimerobots.com/2015/01/simple-diffie-hellman-example-python/"
   ]
  },
  {
   "cell_type": "code",
   "execution_count": 4,
   "metadata": {},
   "outputs": [
    {
     "name": "stdout",
     "output_type": "stream",
     "text": [
      "Publicly Shared Variables:\n",
      "    Publicly Shared Prime:  23\n",
      "    Publicly Shared Base:   5\n",
      "\n",
      "  Alice Sends Over Public Chanel:  8\n",
      "    Bob Sends Over Public Chanel:  19\n",
      "\n",
      "------------\n",
      "\n",
      "Privately Calculated Shared Secret:\n",
      "    Alice Shared Secret:  2\n",
      "    Bob Shared Secret:  2\n"
     ]
    }
   ],
   "source": [
    "# use Python 3 print function\n",
    "# this allows this code to run on python 2.x and 3.x\n",
    "from __future__ import print_function\n",
    " \n",
    "# Variables Used\n",
    "sharedPrime = 23    # p\n",
    "sharedBase = 5      # g\n",
    " \n",
    "aliceSecret = 6     # a\n",
    "bobSecret = 15      # b\n",
    " \n",
    "# Begin\n",
    "print( \"Publicly Shared Variables:\")\n",
    "print( \"    Publicly Shared Prime: \" , sharedPrime )\n",
    "print( \"    Publicly Shared Base:  \" , sharedBase )\n",
    " \n",
    "# Alice Sends Bob A = g^a mod p\n",
    "A = (sharedBase ** aliceSecret) % sharedPrime\n",
    "print( \"\\n  Alice Sends Over Public Chanel: \" , A )\n",
    " \n",
    "# Bob Sends Alice B = g^b mod p\n",
    "B = (sharedBase ** bobSecret) % sharedPrime\n",
    "print( \"    Bob Sends Over Public Chanel: \", B )\n",
    " \n",
    "print( \"\\n------------\\n\" )\n",
    "print( \"Privately Calculated Shared Secret:\" )\n",
    "# Alice Computes Shared Secret: s = B^a mod p\n",
    "aliceSharedSecret = (B ** aliceSecret) % sharedPrime\n",
    "print( \"    Alice Shared Secret: \", aliceSharedSecret )\n",
    " \n",
    "# Bob Computes Shared Secret: s = A^b mod p\n",
    "bobSharedSecret = (A ** bobSecret) % sharedPrime\n",
    "print( \"    Bob Shared Secret: \", bobSharedSecret )"
   ]
  },
  {
   "cell_type": "markdown",
   "metadata": {},
   "source": [
    "#### 선형 프로그래밍\n",
    "\n",
    "https://ko.wikipedia.org/wiki/%EC%84%A0%ED%98%95_%EA%B3%84%ED%9A%8D%EB%B2%95"
   ]
  },
  {
   "cell_type": "markdown",
   "metadata": {},
   "source": [
    "#### LinkedList 구현\n",
    "https://gist.github.com/ptigas/2820165"
   ]
  },
  {
   "cell_type": "code",
   "execution_count": 5,
   "metadata": {},
   "outputs": [
    {
     "name": "stdout",
     "output_type": "stream",
     "text": [
      "cba\n",
      "ca\n"
     ]
    }
   ],
   "source": [
    "class Node :\n",
    "    def __init__( self, data ) :\n",
    "        self.data = data\n",
    "        self.next = None\n",
    "        self.prev = None\n",
    "\n",
    "        \n",
    "class LinkedList :\n",
    "    def __init__(self) :\n",
    "        self.head = None\n",
    "\n",
    "    def add(self, data) :\n",
    "        node = Node( data )\n",
    "        if self.head == None :\n",
    "            self.head = node\n",
    "        else :\n",
    "            node.next = self.head\n",
    "            node.next.prev = node\n",
    "            self.head = node\n",
    "\n",
    "    def search(self, k) :\n",
    "        p = self.head\n",
    "        if p != None :\n",
    "            while p.next != None :\n",
    "                if (p.data == k) :\n",
    "                    return p\n",
    "                p = p.next\n",
    "            if (p.data == k) :\n",
    "                return p\n",
    "        return None\n",
    "\n",
    "    def remove(self, p) :\n",
    "        tmp = p.prev\n",
    "        p.prev.next = p.next\n",
    "        p.prev = tmp\n",
    "\n",
    "    def __str__(self) :\n",
    "        s = \"\"\n",
    "        p = self.head\n",
    "        if p != None :\n",
    "            while p.next != None :\n",
    "                s += p.data\n",
    "                p = p.next\n",
    "            s += p.data\n",
    "        return s\n",
    "\n",
    "\n",
    "# example code\n",
    "l = LinkedList()\n",
    "\n",
    "l.add('a')\n",
    "l.add('b')\n",
    "l.add('c')\n",
    "\n",
    "print(l)\n",
    "l.remove(l.search('b'))\n",
    "print(l)"
   ]
  }
 ],
 "metadata": {
  "kernelspec": {
   "display_name": "Python 2",
   "language": "python",
   "name": "python2"
  },
  "language_info": {
   "codemirror_mode": {
    "name": "ipython",
    "version": 2
   },
   "file_extension": ".py",
   "mimetype": "text/x-python",
   "name": "python",
   "nbconvert_exporter": "python",
   "pygments_lexer": "ipython2",
   "version": "2.7.15"
  }
 },
 "nbformat": 4,
 "nbformat_minor": 2
}
