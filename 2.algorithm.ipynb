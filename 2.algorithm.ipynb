{
 "cells": [
  {
   "cell_type": "markdown",
   "metadata": {},
   "source": [
    "### 해시테이블 (hash tables)"
   ]
  },
  {
   "cell_type": "code",
   "execution_count": 61,
   "metadata": {},
   "outputs": [
    {
     "name": "stdout",
     "output_type": "stream",
     "text": [
      "{'milk': 1.49, 'apple': 0.67, 'avocado': 1.49}\n",
      "1.49\n"
     ]
    }
   ],
   "source": [
    "book = dict()\n",
    "\n",
    "book[\"apple\"] = 0.67\n",
    "book[\"milk\"] = 1.49\n",
    "book[\"avocado\"] = 1.49\n",
    "print(book)\n",
    "print(book[\"avocado\"])"
   ]
  },
  {
   "cell_type": "markdown",
   "metadata": {},
   "source": [
    "해시테이블은 키(key), 값(value)으로 구성"
   ]
  },
  {
   "cell_type": "markdown",
   "metadata": {},
   "source": [
    "##### 해시테이블 사용 예 - 전화번호부"
   ]
  },
  {
   "cell_type": "code",
   "execution_count": 62,
   "metadata": {},
   "outputs": [
    {
     "name": "stdout",
     "output_type": "stream",
     "text": [
      "8675309\n",
      "911\n"
     ]
    }
   ],
   "source": [
    "phone_book = dict()\n",
    "# phone_book = {}\n",
    "phone_book[\"jenny\"] = 8675309\n",
    "phone_book[\"emergency\"] = 911\n",
    "print(phone_book[\"jenny\"])\n",
    "print(phone_book[\"emergency\"])"
   ]
  },
  {
   "cell_type": "markdown",
   "metadata": {},
   "source": [
    "##### 해시테이블 사용 예 - 투표자 명단확인 (중복 방지)"
   ]
  },
  {
   "cell_type": "code",
   "execution_count": 63,
   "metadata": {},
   "outputs": [
    {
     "name": "stdout",
     "output_type": "stream",
     "text": [
      "투표하게 하세요\n",
      "투표하게 하세요\n",
      "돌려 보내세요!\n"
     ]
    }
   ],
   "source": [
    "voted = {}\n",
    "\n",
    "def check_voter(name):\n",
    "    if voted.get(name):\n",
    "        print(\"돌려 보내세요!\")\n",
    "    else:\n",
    "        voted[name] = True\n",
    "        print(\"투표하게 하세요\")\n",
    "        \n",
    "        \n",
    "check_voter(\"tom\")\n",
    "check_voter(\"mike\")\n",
    "check_voter(\"mike\")"
   ]
  },
  {
   "cell_type": "markdown",
   "metadata": {},
   "source": [
    "###### 해시테이블 사용 예 - 캐시로 사용하기"
   ]
  },
  {
   "cell_type": "code",
   "execution_count": 64,
   "metadata": {
    "collapsed": true
   },
   "outputs": [],
   "source": [
    "cache = {}\n",
    "\n",
    "def get_page(url):\n",
    "    if cache.get(url):\n",
    "        return cache[url]\n",
    "    else:\n",
    "        data = get_data_from_server(url)\n",
    "        cache[url] = data\n",
    "        return data"
   ]
  },
  {
   "cell_type": "markdown",
   "metadata": {},
   "source": [
    "### 너비 우선 탐색 (breadth-first search)"
   ]
  },
  {
   "cell_type": "code",
   "execution_count": 65,
   "metadata": {
    "collapsed": true
   },
   "outputs": [],
   "source": [
    "graph = {}\n",
    "graph[\"you\"] = [\"alice\", \"bob\", \"claire\"]\n",
    "graph[\"bob\"] = [\"anuj\", \"peggy\"]\n",
    "graph[\"alice\"] = [\"peggy\"]\n",
    "graph[\"claire\"] = [\"thom\", \"jonny\"]\n",
    "graph[\"anuj\"] = []\n",
    "graph[\"peggy\"] = []\n",
    "graph[\"thom\"] = []\n",
    "graph[\"jonny\"] = []"
   ]
  },
  {
   "cell_type": "code",
   "execution_count": 66,
   "metadata": {},
   "outputs": [
    {
     "name": "stdout",
     "output_type": "stream",
     "text": [
      "deque(['alice', 'bob', 'claire'])\n"
     ]
    }
   ],
   "source": [
    "from collections import deque\n",
    "search_queue = deque() # 새 큐를 생성\n",
    "search_queue += graph[\"you\"] # 모든 이웃을 탐색 큐에 추가\n",
    "print(search_queue)"
   ]
  },
  {
   "cell_type": "code",
   "execution_count": 67,
   "metadata": {
    "collapsed": true
   },
   "outputs": [],
   "source": [
    "def search(name):\n",
    "    search_queue = deque()\n",
    "    search_queue += graph[name]\n",
    "    searched = []\n",
    "    while search_queue: # 큐가 비어 있지 않는 한 계속 실행\n",
    "        person = search_queue.popleft() # 큐의 첫번째 사람을 꺼냄\n",
    "        if not person in searched: \n",
    "            if person_is_seller(person): # 망고 판매상인지 확인\n",
    "                print(person + \" is a mango seller\")\n",
    "                return True\n",
    "            else:\n",
    "                search_queue += graph[person] \n",
    "                searched.append(person) # 망고 판매상이 아님, 모든 이웃을 탐색 목록에 추가\n",
    "    return False # 여기에 도달한다면 망고판매상이 없음\n",
    "\n",
    "\n",
    "def person_is_seller(name):\n",
    "    return name[-1] == 'm'"
   ]
  },
  {
   "cell_type": "code",
   "execution_count": 68,
   "metadata": {},
   "outputs": [
    {
     "name": "stdout",
     "output_type": "stream",
     "text": [
      "thom is a mango seller\n",
      "True\n"
     ]
    }
   ],
   "source": [
    "print(search(\"you\"))"
   ]
  },
  {
   "cell_type": "markdown",
   "metadata": {},
   "source": [
    "### 다익스트라 알고리즘 (dijkstras algorithm)"
   ]
  },
  {
   "cell_type": "markdown",
   "metadata": {},
   "source": [
    "###### 그래프"
   ]
  },
  {
   "cell_type": "code",
   "execution_count": 1,
   "metadata": {
    "collapsed": true
   },
   "outputs": [],
   "source": [
    "graph = {}\n",
    "graph[\"start\"] = {}\n",
    "graph[\"start\"][\"a\"] = 6\n",
    "graph[\"start\"][\"b\"] = 2"
   ]
  },
  {
   "cell_type": "code",
   "execution_count": 2,
   "metadata": {},
   "outputs": [
    {
     "name": "stdout",
     "output_type": "stream",
     "text": [
      "dict_keys(['b', 'a'])\n"
     ]
    }
   ],
   "source": [
    "print(graph[\"start\"].keys())"
   ]
  },
  {
   "cell_type": "code",
   "execution_count": 3,
   "metadata": {},
   "outputs": [
    {
     "name": "stdout",
     "output_type": "stream",
     "text": [
      "6\n",
      "2\n"
     ]
    }
   ],
   "source": [
    "print(graph[\"start\"][\"a\"])\n",
    "print(graph[\"start\"][\"b\"])"
   ]
  },
  {
   "cell_type": "code",
   "execution_count": 4,
   "metadata": {
    "collapsed": true
   },
   "outputs": [],
   "source": [
    "graph[\"a\"] = {}\n",
    "graph[\"a\"][\"fin\"] = 1\n",
    "\n",
    "graph[\"b\"] = {}\n",
    "graph[\"b\"][\"a\"] = 3\n",
    "graph[\"b\"][\"fin\"] = 5\n",
    "\n",
    "graph[\"fin\"] = {}"
   ]
  },
  {
   "cell_type": "markdown",
   "metadata": {},
   "source": [
    "###### 정점의 가격을 저장하는 해시 테이블"
   ]
  },
  {
   "cell_type": "code",
   "execution_count": 5,
   "metadata": {
    "collapsed": true
   },
   "outputs": [],
   "source": [
    "infinity = float(\"inf\")\n",
    "\n",
    "costs = {}\n",
    "costs[\"a\"] = 6 # start > a 까지의 비용\n",
    "costs[\"b\"] = 2 # start > a 까지의 비용\n",
    "costs[\"fin\"] = infinity"
   ]
  },
  {
   "cell_type": "markdown",
   "metadata": {},
   "source": [
    "###### 부모를 저장하는 해시테이블"
   ]
  },
  {
   "cell_type": "code",
   "execution_count": 6,
   "metadata": {
    "collapsed": true
   },
   "outputs": [],
   "source": [
    "parents = {}\n",
    "parents[\"a\"] = \"start\"\n",
    "parents[\"b\"] = \"start\"\n",
    "parents[\"fin\"] = None"
   ]
  },
  {
   "cell_type": "markdown",
   "metadata": {},
   "source": [
    "###### 이미 처리한 정점을 추적하기 위한 배열"
   ]
  },
  {
   "cell_type": "code",
   "execution_count": 7,
   "metadata": {
    "collapsed": true
   },
   "outputs": [],
   "source": [
    "processed = []"
   ]
  },
  {
   "cell_type": "markdown",
   "metadata": {},
   "source": [
    "##### 다익스트라 알고리즘"
   ]
  },
  {
   "cell_type": "code",
   "execution_count": 8,
   "metadata": {},
   "outputs": [
    {
     "name": "stdout",
     "output_type": "stream",
     "text": [
      "부모 테이블 (경로 이동) : \n",
      "{'fin': 'a', 'b': 'start', 'a': 'b'}\n",
      "최단 거리 노드 비용은 : \n",
      "{'fin': 6, 'b': 2, 'a': 5}\n"
     ]
    }
   ],
   "source": [
    "def find_lowest_cost_node(costs):\n",
    "    lowest_cost = float(\"inf\")\n",
    "    lowest_cost_node = None\n",
    "    # 모든 정점을 확인\n",
    "    for node in costs:\n",
    "        cost = costs[node] \n",
    "        # 아직 처리하지 않은 정점 중 더 싼 것이 있으면\n",
    "        if cost < lowest_cost and node not in processed:\n",
    "            # 새로운 최저 정점으로 설정\n",
    "            lowest_cost = cost\n",
    "            lowest_cost_node = node\n",
    "    return lowest_cost_node\n",
    "\n",
    "# 아직 처리하지 않은 가장 싼 정점을 찾는다.\n",
    "node = find_lowest_cost_node(costs)  # b\n",
    "\n",
    "while node is not None: # 모든 정점을 처리하면 반복문 종료\n",
    "    cost = costs[node]\n",
    "    neighbors = graph[node]\n",
    "    for n in neighbors.keys(): # 모든 이웃에 대해 반복\n",
    "        new_cost = cost + neighbors[n]\n",
    "        if costs[n] > new_cost: # 이 점을 지나는 것이 가격이 더 싸다면 \n",
    "            costs[n] = new_cost # 정점의 가격을 갱신\n",
    "            parents[n] = node # 부모를 이 정점으로 새로 설정\n",
    "    processed.append(node) # 정점을 처리한 사실을 기록\n",
    "    node = find_lowest_cost_node(costs) # 다음으로 처리할 정점을 찾아 반복\n",
    "    \n",
    "print(\"부모 테이블 (경로 이동) : \")\n",
    "print(parents) \n",
    "print(\"최단 거리 노드 비용은 : \")\n",
    "print(costs)"
   ]
  },
  {
   "cell_type": "markdown",
   "metadata": {},
   "source": [
    "start > b > a > fin"
   ]
  },
  {
   "cell_type": "markdown",
   "metadata": {},
   "source": [
    "### 탐욕 알고리즘 (greedy algorithm)"
   ]
  },
  {
   "cell_type": "markdown",
   "metadata": {},
   "source": [
    "##### set(집합)"
   ]
  },
  {
   "cell_type": "code",
   "execution_count": 9,
   "metadata": {},
   "outputs": [
    {
     "data": {
      "text/plain": [
       "{1, 2, 3}"
      ]
     },
     "execution_count": 9,
     "metadata": {},
     "output_type": "execute_result"
    }
   ],
   "source": [
    "arr = [1, 2, 2, 3, 3, 3]\n",
    "\n",
    "set(arr)\n",
    "set([1, 2, 3]) # 집합 생성"
   ]
  },
  {
   "cell_type": "code",
   "execution_count": 10,
   "metadata": {},
   "outputs": [
    {
     "name": "stdout",
     "output_type": "stream",
     "text": [
      "{'banana', 'tomato', 'carrots', 'avocado', 'beets'}\n",
      "{'tomato'}\n",
      "{'banana', 'avocado'}\n",
      "{'carrots', 'beets'}\n"
     ]
    }
   ],
   "source": [
    "fruits = set([\"avocado\", \"tomato\", \"banana\"])\n",
    "vegetables = set([\"beets\", \"carrots\", \"tomato\"])\n",
    "print(fruits | vegetables) # 합집합\n",
    "print(fruits & vegetables) # 교집합\n",
    "print(fruits - vegetables) # 차집합\n",
    "print(vegetables - fruits) # 차집합"
   ]
  },
  {
   "cell_type": "markdown",
   "metadata": {},
   "source": [
    "###### 근사 알고리즘"
   ]
  },
  {
   "cell_type": "markdown",
   "metadata": {},
   "source": [
    "하나의 방송국을 통해 청취할 수 있는 지역은 한정되어있어 전국의 방송국을 돌며 방송을 하고 싶다.\n",
    "쇼를 하는데 돈을 들기 때문에 최대한 적은 수의 방송국을 돌아야 한다."
   ]
  },
  {
   "cell_type": "code",
   "execution_count": 12,
   "metadata": {},
   "outputs": [
    {
     "name": "stdout",
     "output_type": "stream",
     "text": [
      "최대한 적은 수로 모든 주를 커버하는 방송국은 : \n",
      "{'kfour', 'ktwo', 'kfive', 'kthree'}\n"
     ]
    }
   ],
   "source": [
    "states_needed = set([\"mt\", \"wa\", \"or\", \"id\", \"nv\", \"ut\", \"ca\", \"az\"])\n",
    "\n",
    "stations = {}\n",
    "stations[\"kone\"] = set([\"id\", \"nv\", \"ut\"])\n",
    "stations[\"ktwo\"] = set([\"wa\", \"id\", \"mt\"])\n",
    "stations[\"kthree\"] = set([\"or\", \"nv\", \"ca\"])\n",
    "stations[\"kfour\"] = set([\"nv\", \"ut\"])\n",
    "stations[\"kfive\"] = set([\"ca\", \"az\"])\n",
    "\n",
    "final_stations = set()\n",
    "\n",
    "while states_needed:\n",
    "    best_station = None\n",
    "    states_covered = set()\n",
    "    for station, states in stations.items(): # 키, 데이터\n",
    "        covered = states_needed & states # 교집합\n",
    "        if len(covered) > len(states_covered): # best_station 보다 더 많은 주를 커버하는지 확인\n",
    "            best_station = station\n",
    "            states_covered = covered\n",
    "\n",
    "    states_needed -= states_covered # states_needed 가 완전히 빌때까지 반복\n",
    "    final_stations.add(best_station) # best_station 을 추가\n",
    "\n",
    "print(\"최대한 적은 수로 모든 주를 커버하는 방송국은 : \")\n",
    "print(final_stations)"
   ]
  },
  {
   "cell_type": "markdown",
   "metadata": {},
   "source": [
    "states_needed 배열을 하나씩 돌면서 그 주에 가장 많이 겹치는 방송국을 찾는다.\n",
    "best_station 이 발견되면 states_covered 는 states_needed 에서 제거한다."
   ]
  }
 ],
 "metadata": {
  "kernelspec": {
   "display_name": "Python 3",
   "language": "python",
   "name": "python3"
  },
  "language_info": {
   "codemirror_mode": {
    "name": "ipython",
    "version": 3
   },
   "file_extension": ".py",
   "mimetype": "text/x-python",
   "name": "python",
   "nbconvert_exporter": "python",
   "pygments_lexer": "ipython3",
   "version": "3.5.1"
  }
 },
 "nbformat": 4,
 "nbformat_minor": 2
}
